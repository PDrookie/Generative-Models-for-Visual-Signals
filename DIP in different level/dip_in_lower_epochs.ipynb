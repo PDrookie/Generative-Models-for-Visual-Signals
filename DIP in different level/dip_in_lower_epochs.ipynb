{
 "cells": [
  {
   "cell_type": "markdown",
   "id": "6ea1c5b2",
   "metadata": {
    "id": "VPxR_evgNg6O",
    "papermill": {
     "duration": 0.006124,
     "end_time": "2024-05-31T12:59:39.481553",
     "exception": false,
     "start_time": "2024-05-31T12:59:39.475429",
     "status": "completed"
    },
    "tags": []
   },
   "source": [
    "## Env Creative"
   ]
  },
  {
   "cell_type": "code",
   "execution_count": 1,
   "id": "188b7bc5",
   "metadata": {
    "execution": {
     "iopub.execute_input": "2024-05-31T12:59:39.494069Z",
     "iopub.status.busy": "2024-05-31T12:59:39.493802Z",
     "iopub.status.idle": "2024-05-31T12:59:44.868695Z",
     "shell.execute_reply": "2024-05-31T12:59:44.867909Z"
    },
    "id": "78BPVkAWNbrx",
    "papermill": {
     "duration": 5.383629,
     "end_time": "2024-05-31T12:59:44.870957",
     "exception": false,
     "start_time": "2024-05-31T12:59:39.487328",
     "status": "completed"
    },
    "tags": []
   },
   "outputs": [],
   "source": [
    "import numpy as np\n",
    "import torch\n",
    "import torch.nn as nn\n",
    "import torch.optim as optim\n",
    "from skimage.metrics import peak_signal_noise_ratio as psnr\n",
    "from skimage.metrics import structural_similarity as ssim\n",
    "from tqdm import tqdm\n",
    "import matplotlib.pyplot as plt\n",
    "import imageio.v2"
   ]
  },
  {
   "cell_type": "markdown",
   "id": "2946844e",
   "metadata": {
    "id": "CyPCpr--NjqQ",
    "papermill": {
     "duration": 0.005635,
     "end_time": "2024-05-31T12:59:44.882797",
     "exception": false,
     "start_time": "2024-05-31T12:59:44.877162",
     "status": "completed"
    },
    "tags": []
   },
   "source": [
    "## Function to add Gaussian noise to the image"
   ]
  },
  {
   "cell_type": "code",
   "execution_count": 2,
   "id": "84bad578",
   "metadata": {
    "execution": {
     "iopub.execute_input": "2024-05-31T12:59:44.895317Z",
     "iopub.status.busy": "2024-05-31T12:59:44.894962Z",
     "iopub.status.idle": "2024-05-31T12:59:44.899475Z",
     "shell.execute_reply": "2024-05-31T12:59:44.898678Z"
    },
    "id": "fjQ3PlXbNorx",
    "papermill": {
     "duration": 0.012834,
     "end_time": "2024-05-31T12:59:44.901338",
     "exception": false,
     "start_time": "2024-05-31T12:59:44.888504",
     "status": "completed"
    },
    "tags": []
   },
   "outputs": [],
   "source": [
    "def add_noise(img, noise_level):\n",
    "    noise = np.random.normal(0, noise_level, img.shape)\n",
    "    noisy_img = img + noise\n",
    "    return np.clip(noisy_img, 0, 1)"
   ]
  },
  {
   "cell_type": "markdown",
   "id": "63eb15fd",
   "metadata": {
    "id": "tDlzk0CuNpiI",
    "papermill": {
     "duration": 0.005396,
     "end_time": "2024-05-31T12:59:44.913440",
     "exception": false,
     "start_time": "2024-05-31T12:59:44.908044",
     "status": "completed"
    },
    "tags": []
   },
   "source": [
    "## Define the DIP model"
   ]
  },
  {
   "cell_type": "code",
   "execution_count": 3,
   "id": "90128c15",
   "metadata": {
    "execution": {
     "iopub.execute_input": "2024-05-31T12:59:44.926224Z",
     "iopub.status.busy": "2024-05-31T12:59:44.925958Z",
     "iopub.status.idle": "2024-05-31T12:59:44.932259Z",
     "shell.execute_reply": "2024-05-31T12:59:44.931560Z"
    },
    "id": "QtS8wxjeNuuI",
    "papermill": {
     "duration": 0.014785,
     "end_time": "2024-05-31T12:59:44.934107",
     "exception": false,
     "start_time": "2024-05-31T12:59:44.919322",
     "status": "completed"
    },
    "tags": []
   },
   "outputs": [],
   "source": [
    "class DIPModel(nn.Module):\n",
    "    def __init__(self):\n",
    "        super(DIPModel, self).__init__()\n",
    "        self.conv1 = nn.Conv2d(3, 64, kernel_size=3, padding=1)\n",
    "        self.conv2 = nn.Conv2d(64, 64, kernel_size=3, padding=1)\n",
    "        self.conv3 = nn.Conv2d(64, 3, kernel_size=3, padding=1)\n",
    "        self.relu = nn.ReLU()\n",
    "\n",
    "    def forward(self, x):\n",
    "        x = self.relu(self.conv1(x))\n",
    "        x = self.relu(self.conv2(x))\n",
    "        x = self.conv3(x)\n",
    "        return x"
   ]
  },
  {
   "cell_type": "markdown",
   "id": "0ce1c15d",
   "metadata": {
    "id": "uyRwqMX4N3JR",
    "papermill": {
     "duration": 0.005374,
     "end_time": "2024-05-31T12:59:44.945141",
     "exception": false,
     "start_time": "2024-05-31T12:59:44.939767",
     "status": "completed"
    },
    "tags": []
   },
   "source": [
    "## Load target image"
   ]
  },
  {
   "cell_type": "code",
   "execution_count": 4,
   "id": "0b6fb9f9",
   "metadata": {
    "execution": {
     "iopub.execute_input": "2024-05-31T12:59:44.957255Z",
     "iopub.status.busy": "2024-05-31T12:59:44.956998Z",
     "iopub.status.idle": "2024-05-31T12:59:44.997605Z",
     "shell.execute_reply": "2024-05-31T12:59:44.996857Z"
    },
    "id": "xCIp2TnzN1n6",
    "papermill": {
     "duration": 0.048925,
     "end_time": "2024-05-31T12:59:44.999611",
     "exception": false,
     "start_time": "2024-05-31T12:59:44.950686",
     "status": "completed"
    },
    "tags": []
   },
   "outputs": [],
   "source": [
    "img_path = '/kaggle/input/lenna-test-image/Lenna_(test_image).png'\n",
    "target_img = imageio.v2.imread(img_path)\n",
    "\n",
    "if target_img.dtype == np.uint8:\n",
    "    target_img = target_img / 255.0"
   ]
  },
  {
   "cell_type": "code",
   "execution_count": 5,
   "id": "6e20541a",
   "metadata": {
    "execution": {
     "iopub.execute_input": "2024-05-31T12:59:45.012178Z",
     "iopub.status.busy": "2024-05-31T12:59:45.011920Z",
     "iopub.status.idle": "2024-05-31T12:59:45.215714Z",
     "shell.execute_reply": "2024-05-31T12:59:45.214772Z"
    },
    "id": "tVkeiLeopFiM",
    "outputId": "53bfa47a-1fa3-43ed-e9b7-e925a480815f",
    "papermill": {
     "duration": 0.212551,
     "end_time": "2024-05-31T12:59:45.218074",
     "exception": false,
     "start_time": "2024-05-31T12:59:45.005523",
     "status": "completed"
    },
    "tags": []
   },
   "outputs": [
    {
     "data": {
      "image/png": "[encoded data removed]",
      "text/plain": [
       "<Figure size 300x100 with 1 Axes>"
      ]
     },
     "metadata": {},
     "output_type": "display_data"
    }
   ],
   "source": [
    "plt.figure(figsize=(3, 1))\n",
    "plt.title(\"Original\")\n",
    "plt.imshow(np.clip(target_img, 0, 1))\n",
    "plt.show()"
   ]
  },
  {
   "cell_type": "markdown",
   "id": "68ce8b20",
   "metadata": {
    "id": "TpN0JIRROF2A",
    "papermill": {
     "duration": 0.00599,
     "end_time": "2024-05-31T12:59:45.231144",
     "exception": false,
     "start_time": "2024-05-31T12:59:45.225154",
     "status": "completed"
    },
    "tags": []
   },
   "source": [
    "## Define noise levels and schedule"
   ]
  },
  {
   "cell_type": "code",
   "execution_count": 6,
   "id": "29b576a9",
   "metadata": {
    "execution": {
     "iopub.execute_input": "2024-05-31T12:59:45.244290Z",
     "iopub.status.busy": "2024-05-31T12:59:45.243981Z",
     "iopub.status.idle": "2024-05-31T12:59:45.248436Z",
     "shell.execute_reply": "2024-05-31T12:59:45.247624Z"
    },
    "id": "4qZXS6RlOFNI",
    "papermill": {
     "duration": 0.013065,
     "end_time": "2024-05-31T12:59:45.250162",
     "exception": false,
     "start_time": "2024-05-31T12:59:45.237097",
     "status": "completed"
    },
    "tags": []
   },
   "outputs": [],
   "source": [
    "schedules = {\n",
    "    \"gradual\": [0.1, 0.05, 0.025],\n",
    "    \"fast\": [0.1, 0.01, 0.001],\n",
    "    \"slow\": [0.1, 0.09, 0.08]\n",
    "}"
   ]
  },
  {
   "cell_type": "markdown",
   "id": "03d40289",
   "metadata": {
    "id": "PxrTRBDSOKrp",
    "papermill": {
     "duration": 0.005671,
     "end_time": "2024-05-31T12:59:45.262782",
     "exception": false,
     "start_time": "2024-05-31T12:59:45.257111",
     "status": "completed"
    },
    "tags": []
   },
   "source": [
    "## Prepare for Training"
   ]
  },
  {
   "cell_type": "code",
   "execution_count": 7,
   "id": "61998d26",
   "metadata": {
    "execution": {
     "iopub.execute_input": "2024-05-31T12:59:45.276443Z",
     "iopub.status.busy": "2024-05-31T12:59:45.276163Z",
     "iopub.status.idle": "2024-05-31T12:59:45.357172Z",
     "shell.execute_reply": "2024-05-31T12:59:45.356150Z"
    },
    "id": "2C2Rwc-rOMtR",
    "outputId": "f97dfe35-e328-4595-ce6a-33ee4b416326",
    "papermill": {
     "duration": 0.090141,
     "end_time": "2024-05-31T12:59:45.359304",
     "exception": false,
     "start_time": "2024-05-31T12:59:45.269163",
     "status": "completed"
    },
    "tags": []
   },
   "outputs": [
    {
     "name": "stdout",
     "output_type": "stream",
     "text": [
      "Using device: cuda\n"
     ]
    }
   ],
   "source": [
    "device = torch.device(\"cuda\" if torch.cuda.is_available() else \"cpu\")\n",
    "print(f\"Using device: {device}\")"
   ]
  },
  {
   "cell_type": "code",
   "execution_count": 8,
   "id": "3c933887",
   "metadata": {
    "execution": {
     "iopub.execute_input": "2024-05-31T12:59:45.372799Z",
     "iopub.status.busy": "2024-05-31T12:59:45.372317Z",
     "iopub.status.idle": "2024-05-31T12:59:45.376929Z",
     "shell.execute_reply": "2024-05-31T12:59:45.376080Z"
    },
    "id": "WaJQQlZMOT6B",
    "papermill": {
     "duration": 0.013293,
     "end_time": "2024-05-31T12:59:45.378843",
     "exception": false,
     "start_time": "2024-05-31T12:59:45.365550",
     "status": "completed"
    },
    "tags": []
   },
   "outputs": [],
   "source": [
    "def initialize_model():\n",
    "    model = DIPModel().to(device)\n",
    "    optimizer = optim.Adam(model.parameters(), lr=0.005)\n",
    "    return model, optimizer"
   ]
  },
  {
   "cell_type": "code",
   "execution_count": 9,
   "id": "003cc53a",
   "metadata": {
    "execution": {
     "iopub.execute_input": "2024-05-31T12:59:45.392775Z",
     "iopub.status.busy": "2024-05-31T12:59:45.392070Z",
     "iopub.status.idle": "2024-05-31T12:59:45.405524Z",
     "shell.execute_reply": "2024-05-31T12:59:45.404671Z"
    },
    "id": "Kdy968OYOcz6",
    "papermill": {
     "duration": 0.022424,
     "end_time": "2024-05-31T12:59:45.407412",
     "exception": false,
     "start_time": "2024-05-31T12:59:45.384988",
     "status": "completed"
    },
    "tags": []
   },
   "outputs": [],
   "source": [
    "def train_schedule(schedule_name, noise_levels):\n",
    "    psnr_results = []\n",
    "    ssim_results = []\n",
    "\n",
    "    noisy_images = [add_noise(target_img, noise_level) for noise_level in noise_levels]\n",
    "    noisy_images_torch = [torch.tensor(img.transpose(2, 0, 1)).unsqueeze(0).float() for img in noisy_images]\n",
    "    noisy_images_torch = [img.to(device) for img in noisy_images_torch]\n",
    "    target_img_torch = torch.tensor(target_img.transpose(2, 0, 1)).unsqueeze(0).float().to(device)\n",
    "\n",
    "    model, optimizer = initialize_model()\n",
    "    criterion = nn.MSELoss()\n",
    "\n",
    "    num_epochs_per_stage = 200\n",
    "    patience = 50\n",
    "    best_psnr = 0\n",
    "    best_model = None\n",
    "    eval_interval = 100\n",
    "\n",
    "    for stage, noisy_img_torch in enumerate(noisy_images_torch):\n",
    "        print(f\"Training on schedule {schedule_name}, stage {stage + 1} with noise level {noise_levels[stage]}\")\n",
    "        no_improvement_count = 0\n",
    "\n",
    "        for epoch in tqdm(range(num_epochs_per_stage)):\n",
    "            model.train()\n",
    "            optimizer.zero_grad()\n",
    "            output = model(noisy_img_torch)\n",
    "            loss = criterion(output, target_img_torch)\n",
    "            loss.backward()\n",
    "            optimizer.step()\n",
    "\n",
    "            if epoch % eval_interval == 0 or epoch == num_epochs_per_stage - 1:\n",
    "                model.eval()\n",
    "                with torch.no_grad():\n",
    "                    output_img = output.squeeze().cpu().detach().numpy().transpose(1, 2, 0)\n",
    "                    output_img = np.clip(output_img, 0, 1)\n",
    "                    current_psnr = psnr(target_img, output_img, data_range=1.0)\n",
    "                    current_ssim = ssim(target_img, output_img, data_range=1.0, channel_axis=-1)\n",
    "\n",
    "                    if current_psnr > best_psnr:\n",
    "                        best_psnr = current_psnr\n",
    "                        best_model = model.state_dict()\n",
    "                        no_improvement_count = 0\n",
    "                    else:\n",
    "                        no_improvement_count += 1\n",
    "\n",
    "                    if no_improvement_count >= patience:\n",
    "                        print(f\"Early stopping at epoch {epoch} in schedule {schedule_name}, stage {stage + 1}\")\n",
    "                        break\n",
    "\n",
    "        model.load_state_dict(best_model)\n",
    "        psnr_results.append(best_psnr)\n",
    "        ssim_results.append(current_ssim)\n",
    "\n",
    "    return psnr_results, ssim_results"
   ]
  },
  {
   "cell_type": "markdown",
   "id": "aa2a5d4c",
   "metadata": {
    "id": "D96PkZj5OOvh",
    "papermill": {
     "duration": 0.005915,
     "end_time": "2024-05-31T12:59:45.419245",
     "exception": false,
     "start_time": "2024-05-31T12:59:45.413330",
     "status": "completed"
    },
    "tags": []
   },
   "source": [
    "## Training"
   ]
  },
  {
   "cell_type": "code",
   "execution_count": 10,
   "id": "f1a17f44",
   "metadata": {
    "execution": {
     "iopub.execute_input": "2024-05-31T12:59:45.432435Z",
     "iopub.status.busy": "2024-05-31T12:59:45.432195Z",
     "iopub.status.idle": "2024-05-31T13:00:37.340370Z",
     "shell.execute_reply": "2024-05-31T13:00:37.339428Z"
    },
    "id": "xhvROdsz2r5N",
    "outputId": "49cb95ea-207d-47d7-c595-86deb2fe81fd",
    "papermill": {
     "duration": 51.917262,
     "end_time": "2024-05-31T13:00:37.342685",
     "exception": false,
     "start_time": "2024-05-31T12:59:45.425423",
     "status": "completed"
    },
    "tags": []
   },
   "outputs": [
    {
     "name": "stdout",
     "output_type": "stream",
     "text": [
      "Training on schedule gradual, stage 1 with noise level 0.1\n"
     ]
    },
    {
     "name": "stderr",
     "output_type": "stream",
     "text": [
      "100%|██████████| 200/200 [00:06<00:00, 30.32it/s]\n"
     ]
    },
    {
     "name": "stdout",
     "output_type": "stream",
     "text": [
      "Training on schedule gradual, stage 2 with noise level 0.05\n"
     ]
    },
    {
     "name": "stderr",
     "output_type": "stream",
     "text": [
      "100%|██████████| 200/200 [00:05<00:00, 36.94it/s]\n"
     ]
    },
    {
     "name": "stdout",
     "output_type": "stream",
     "text": [
      "Training on schedule gradual, stage 3 with noise level 0.025\n"
     ]
    },
    {
     "name": "stderr",
     "output_type": "stream",
     "text": [
      "100%|██████████| 200/200 [00:05<00:00, 36.82it/s]\n"
     ]
    },
    {
     "name": "stdout",
     "output_type": "stream",
     "text": [
      "Training on schedule fast, stage 1 with noise level 0.1\n"
     ]
    },
    {
     "name": "stderr",
     "output_type": "stream",
     "text": [
      "100%|██████████| 200/200 [00:05<00:00, 37.29it/s]\n"
     ]
    },
    {
     "name": "stdout",
     "output_type": "stream",
     "text": [
      "Training on schedule fast, stage 2 with noise level 0.01\n"
     ]
    },
    {
     "name": "stderr",
     "output_type": "stream",
     "text": [
      "100%|██████████| 200/200 [00:05<00:00, 37.20it/s]\n"
     ]
    },
    {
     "name": "stdout",
     "output_type": "stream",
     "text": [
      "Training on schedule fast, stage 3 with noise level 0.001\n"
     ]
    },
    {
     "name": "stderr",
     "output_type": "stream",
     "text": [
      "100%|██████████| 200/200 [00:05<00:00, 37.04it/s]\n"
     ]
    },
    {
     "name": "stdout",
     "output_type": "stream",
     "text": [
      "Training on schedule slow, stage 1 with noise level 0.1\n"
     ]
    },
    {
     "name": "stderr",
     "output_type": "stream",
     "text": [
      "100%|██████████| 200/200 [00:05<00:00, 36.77it/s]\n"
     ]
    },
    {
     "name": "stdout",
     "output_type": "stream",
     "text": [
      "Training on schedule slow, stage 2 with noise level 0.09\n"
     ]
    },
    {
     "name": "stderr",
     "output_type": "stream",
     "text": [
      "100%|██████████| 200/200 [00:05<00:00, 36.64it/s]\n"
     ]
    },
    {
     "name": "stdout",
     "output_type": "stream",
     "text": [
      "Training on schedule slow, stage 3 with noise level 0.08\n"
     ]
    },
    {
     "name": "stderr",
     "output_type": "stream",
     "text": [
      "100%|██████████| 200/200 [00:05<00:00, 36.35it/s]\n"
     ]
    }
   ],
   "source": [
    "results = {}\n",
    "for schedule_name, noise_levels in schedules.items():\n",
    "    psnr_results, ssim_results = train_schedule(schedule_name, noise_levels)\n",
    "    results[schedule_name] = {\n",
    "        \"psnr\": psnr_results,\n",
    "        \"ssim\": ssim_results\n",
    "    }"
   ]
  },
  {
   "cell_type": "markdown",
   "id": "d2662b64",
   "metadata": {
    "id": "2gZhGE78Ojmy",
    "papermill": {
     "duration": 0.027913,
     "end_time": "2024-05-31T13:00:37.398852",
     "exception": false,
     "start_time": "2024-05-31T13:00:37.370939",
     "status": "completed"
    },
    "tags": []
   },
   "source": [
    "## Visulize the result"
   ]
  },
  {
   "cell_type": "code",
   "execution_count": 11,
   "id": "9a15bf71",
   "metadata": {
    "execution": {
     "iopub.execute_input": "2024-05-31T13:00:37.456135Z",
     "iopub.status.busy": "2024-05-31T13:00:37.455710Z",
     "iopub.status.idle": "2024-05-31T13:00:37.461690Z",
     "shell.execute_reply": "2024-05-31T13:00:37.460599Z"
    },
    "id": "MJIGhGloClxU",
    "outputId": "63ddc669-efd2-4213-b525-496ef7bc73b8",
    "papermill": {
     "duration": 0.03666,
     "end_time": "2024-05-31T13:00:37.463526",
     "exception": false,
     "start_time": "2024-05-31T13:00:37.426866",
     "status": "completed"
    },
    "tags": []
   },
   "outputs": [
    {
     "name": "stdout",
     "output_type": "stream",
     "text": [
      "PSNR results for gradual: ['29.1632', '32.2415', '34.5971']\n",
      "SSIM results for gradual: ['0.7446', '0.8387', '0.8959']\n",
      "PSNR results for fast: ['29.7238', '36.0905', '37.7644']\n",
      "SSIM results for fast: ['0.7567', '0.9318', '0.9520']\n",
      "PSNR results for slow: ['29.6897', '30.8076', '31.7278']\n",
      "SSIM results for slow: ['0.7700', '0.7970', '0.8181']\n"
     ]
    }
   ],
   "source": [
    "for schedule_name, metrics in results.items():\n",
    "    psnr_formatted = [f'{val:.4f}' for val in metrics[\"psnr\"]]\n",
    "    ssim_formatted = [f'{val:.4f}' for val in metrics[\"ssim\"]]\n",
    "    print(f'PSNR results for {schedule_name}: {psnr_formatted}')\n",
    "    print(f'SSIM results for {schedule_name}: {ssim_formatted}')"
   ]
  },
  {
   "cell_type": "code",
   "execution_count": 12,
   "id": "92cd7001",
   "metadata": {
    "execution": {
     "iopub.execute_input": "2024-05-31T13:00:37.520248Z",
     "iopub.status.busy": "2024-05-31T13:00:37.519986Z",
     "iopub.status.idle": "2024-05-31T13:00:37.762087Z",
     "shell.execute_reply": "2024-05-31T13:00:37.761249Z"
    },
    "id": "VGB1GtC0Olw7",
    "outputId": "16e9f975-ce3d-4293-ba33-c04bd7a92d8c",
    "papermill": {
     "duration": 0.272226,
     "end_time": "2024-05-31T13:00:37.763954",
     "exception": false,
     "start_time": "2024-05-31T13:00:37.491728",
     "status": "completed"
    },
    "tags": []
   },
   "outputs": [
    {
     "name": "stdout",
     "output_type": "stream",
     "text": [
      "Average PSNR for gradual: 32.0006\n",
      "Average PSNR for fast: 34.5262\n",
      "Average PSNR for slow: 30.7417\n"
     ]
    },
    {
     "data": {
      "image/png": "[encoded data removed]",
      "text/plain": [
       "<Figure size 600x400 with 1 Axes>"
      ]
     },
     "metadata": {},
     "output_type": "display_data"
    }
   ],
   "source": [
    "plt.figure(figsize=(6, 4))\n",
    "for schedule_name, metrics in results.items():\n",
    "    plt.plot(metrics[\"psnr\"], label=f'{schedule_name} PSNR')\n",
    "    avg_psnr = np.mean(metrics[\"psnr\"])\n",
    "    print(f'Average PSNR for {schedule_name}: {avg_psnr:.4f}')\n",
    "plt.xlabel('Stages')\n",
    "plt.ylabel('PSNR')\n",
    "plt.legend()\n",
    "plt.title('PSNR in different levels for lower epochs')\n",
    "plt.show()"
   ]
  },
  {
   "cell_type": "code",
   "execution_count": 13,
   "id": "570e0599",
   "metadata": {
    "execution": {
     "iopub.execute_input": "2024-05-31T13:00:37.822237Z",
     "iopub.status.busy": "2024-05-31T13:00:37.821969Z",
     "iopub.status.idle": "2024-05-31T13:00:38.052465Z",
     "shell.execute_reply": "2024-05-31T13:00:38.051638Z"
    },
    "id": "95JgPszpfjTY",
    "outputId": "3f9fbf4d-fc89-45a4-8993-5ea07ce1c12d",
    "papermill": {
     "duration": 0.261602,
     "end_time": "2024-05-31T13:00:38.054317",
     "exception": false,
     "start_time": "2024-05-31T13:00:37.792715",
     "status": "completed"
    },
    "tags": []
   },
   "outputs": [
    {
     "name": "stdout",
     "output_type": "stream",
     "text": [
      "Average SSIM for gradual: 0.8264\n",
      "Average SSIM for fast: 0.8801\n",
      "Average SSIM for slow: 0.7950\n"
     ]
    },
    {
     "data": {
      "image/png": "[encoded data removed]",
      "text/plain": [
       "<Figure size 600x400 with 1 Axes>"
      ]
     },
     "metadata": {},
     "output_type": "display_data"
    }
   ],
   "source": [
    "plt.figure(figsize=(6, 4))\n",
    "for schedule_name, metrics in results.items():\n",
    "    plt.plot(metrics[\"ssim\"], label=f'{schedule_name} SSIM')\n",
    "    avg_ssim = np.mean(metrics[\"ssim\"])\n",
    "    print(f'Average SSIM for {schedule_name}: {avg_ssim:.4f}')\n",
    "plt.xlabel('Stages')\n",
    "plt.ylabel('SSIM')\n",
    "plt.legend()\n",
    "plt.title('SSIM in different levels for lower epochs')\n",
    "plt.show()"
   ]
  }
 ],
 "metadata": {
  "accelerator": "GPU",
  "colab": {
   "gpuType": "T4",
   "provenance": []
  },
  "kaggle": {
   "accelerator": "nvidiaTeslaT4",
   "dataSources": [
    {
     "datasetId": 5114393,
     "sourceId": 8557443,
     "sourceType": "datasetVersion"
    },
    {
     "datasetId": 5123493,
     "sourceId": 8569100,
     "sourceType": "datasetVersion"
    }
   ],
   "dockerImageVersionId": 30716,
   "isGpuEnabled": true,
   "isInternetEnabled": true,
   "language": "python",
   "sourceType": "notebook"
  },
  "kernelspec": {
   "display_name": "Python 3",
   "language": "python",
   "name": "python3"
  },
  "language_info": {
   "codemirror_mode": {
    "name": "ipython",
    "version": 3
   },
   "file_extension": ".py",
   "mimetype": "text/x-python",
   "name": "python",
   "nbconvert_exporter": "python",
   "pygments_lexer": "ipython3",
   "version": "3.10.13"
  },
  "papermill": {
   "default_parameters": {},
   "duration": 62.868409,
   "end_time": "2024-05-31T13:00:39.404583",
   "environment_variables": {},
   "exception": null,
   "input_path": "__notebook__.ipynb",
   "output_path": "__notebook__.ipynb",
   "parameters": {},
   "start_time": "2024-05-31T12:59:36.536174",
   "version": "2.5.0"
  }
 },
 "nbformat": 4,
 "nbformat_minor": 5
}
