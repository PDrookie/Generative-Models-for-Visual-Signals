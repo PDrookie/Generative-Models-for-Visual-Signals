{
 "cells": [
  {
   "cell_type": "markdown",
   "id": "13a6e404",
   "metadata": {
    "id": "VPxR_evgNg6O",
    "papermill": {
     "duration": 0.005996,
     "end_time": "2024-05-31T12:42:13.138178",
     "exception": false,
     "start_time": "2024-05-31T12:42:13.132182",
     "status": "completed"
    },
    "tags": []
   },
   "source": [
    "## Env Creative"
   ]
  },
  {
   "cell_type": "code",
   "execution_count": 1,
   "id": "f96babcc",
   "metadata": {
    "execution": {
     "iopub.execute_input": "2024-05-31T12:42:13.151063Z",
     "iopub.status.busy": "2024-05-31T12:42:13.150383Z",
     "iopub.status.idle": "2024-05-31T12:42:18.684953Z",
     "shell.execute_reply": "2024-05-31T12:42:18.684096Z"
    },
    "id": "78BPVkAWNbrx",
    "papermill": {
     "duration": 5.543559,
     "end_time": "2024-05-31T12:42:18.687469",
     "exception": false,
     "start_time": "2024-05-31T12:42:13.143910",
     "status": "completed"
    },
    "tags": []
   },
   "outputs": [],
   "source": [
    "import numpy as np\n",
    "import torch\n",
    "import torch.nn as nn\n",
    "import torch.optim as optim\n",
    "from skimage.metrics import peak_signal_noise_ratio as psnr\n",
    "from skimage.metrics import structural_similarity as ssim\n",
    "from tqdm import tqdm\n",
    "import matplotlib.pyplot as plt\n",
    "import imageio.v2"
   ]
  },
  {
   "cell_type": "markdown",
   "id": "be7fe0bf",
   "metadata": {
    "id": "CyPCpr--NjqQ",
    "papermill": {
     "duration": 0.005707,
     "end_time": "2024-05-31T12:42:18.699222",
     "exception": false,
     "start_time": "2024-05-31T12:42:18.693515",
     "status": "completed"
    },
    "tags": []
   },
   "source": [
    "## Function to add Gaussian noise to the image"
   ]
  },
  {
   "cell_type": "code",
   "execution_count": 2,
   "id": "74a3339f",
   "metadata": {
    "execution": {
     "iopub.execute_input": "2024-05-31T12:42:18.711605Z",
     "iopub.status.busy": "2024-05-31T12:42:18.711183Z",
     "iopub.status.idle": "2024-05-31T12:42:18.716364Z",
     "shell.execute_reply": "2024-05-31T12:42:18.715650Z"
    },
    "id": "fjQ3PlXbNorx",
    "papermill": {
     "duration": 0.013489,
     "end_time": "2024-05-31T12:42:18.718208",
     "exception": false,
     "start_time": "2024-05-31T12:42:18.704719",
     "status": "completed"
    },
    "tags": []
   },
   "outputs": [],
   "source": [
    "def add_noise(img, noise_level):\n",
    "    noise = np.random.normal(0, noise_level, img.shape)\n",
    "    noisy_img = img + noise\n",
    "    return np.clip(noisy_img, 0, 1)"
   ]
  },
  {
   "cell_type": "markdown",
   "id": "e017dca6",
   "metadata": {
    "id": "tDlzk0CuNpiI",
    "papermill": {
     "duration": 0.005246,
     "end_time": "2024-05-31T12:42:18.728937",
     "exception": false,
     "start_time": "2024-05-31T12:42:18.723691",
     "status": "completed"
    },
    "tags": []
   },
   "source": [
    "## Define the DIP model"
   ]
  },
  {
   "cell_type": "code",
   "execution_count": 3,
   "id": "809cdcd3",
   "metadata": {
    "execution": {
     "iopub.execute_input": "2024-05-31T12:42:18.741205Z",
     "iopub.status.busy": "2024-05-31T12:42:18.740957Z",
     "iopub.status.idle": "2024-05-31T12:42:18.747544Z",
     "shell.execute_reply": "2024-05-31T12:42:18.746677Z"
    },
    "id": "QtS8wxjeNuuI",
    "papermill": {
     "duration": 0.015202,
     "end_time": "2024-05-31T12:42:18.749529",
     "exception": false,
     "start_time": "2024-05-31T12:42:18.734327",
     "status": "completed"
    },
    "tags": []
   },
   "outputs": [],
   "source": [
    "class DIPModel(nn.Module):\n",
    "    def __init__(self):\n",
    "        super(DIPModel, self).__init__()\n",
    "        self.conv1 = nn.Conv2d(3, 64, kernel_size=3, padding=1)\n",
    "        self.conv2 = nn.Conv2d(64, 64, kernel_size=3, padding=1)\n",
    "        self.conv3 = nn.Conv2d(64, 3, kernel_size=3, padding=1)\n",
    "        self.relu = nn.ReLU()\n",
    "\n",
    "    def forward(self, x):\n",
    "        x = self.relu(self.conv1(x))\n",
    "        x = self.relu(self.conv2(x))\n",
    "        x = self.conv3(x)\n",
    "        return x"
   ]
  },
  {
   "cell_type": "markdown",
   "id": "474625d6",
   "metadata": {
    "id": "uyRwqMX4N3JR",
    "papermill": {
     "duration": 0.005431,
     "end_time": "2024-05-31T12:42:18.760542",
     "exception": false,
     "start_time": "2024-05-31T12:42:18.755111",
     "status": "completed"
    },
    "tags": []
   },
   "source": [
    "## Load target image"
   ]
  },
  {
   "cell_type": "code",
   "execution_count": 4,
   "id": "aada763d",
   "metadata": {
    "execution": {
     "iopub.execute_input": "2024-05-31T12:42:18.772495Z",
     "iopub.status.busy": "2024-05-31T12:42:18.772260Z",
     "iopub.status.idle": "2024-05-31T12:42:18.813505Z",
     "shell.execute_reply": "2024-05-31T12:42:18.812802Z"
    },
    "id": "xCIp2TnzN1n6",
    "papermill": {
     "duration": 0.049624,
     "end_time": "2024-05-31T12:42:18.815618",
     "exception": false,
     "start_time": "2024-05-31T12:42:18.765994",
     "status": "completed"
    },
    "tags": []
   },
   "outputs": [],
   "source": [
    "img_path = '/kaggle/input/lenna-test-image/Lenna_(test_image).png'\n",
    "target_img = imageio.v2.imread(img_path)\n",
    "\n",
    "if target_img.dtype == np.uint8:\n",
    "    target_img = target_img / 255.0"
   ]
  },
  {
   "cell_type": "code",
   "execution_count": 5,
   "id": "813d8786",
   "metadata": {
    "execution": {
     "iopub.execute_input": "2024-05-31T12:42:18.829162Z",
     "iopub.status.busy": "2024-05-31T12:42:18.828907Z",
     "iopub.status.idle": "2024-05-31T12:42:19.098014Z",
     "shell.execute_reply": "2024-05-31T12:42:19.097050Z"
    },
    "id": "tVkeiLeopFiM",
    "outputId": "b80c2b2f-4c80-46bc-d803-d32a575c2e70",
    "papermill": {
     "duration": 0.278178,
     "end_time": "2024-05-31T12:42:19.100003",
     "exception": false,
     "start_time": "2024-05-31T12:42:18.821825",
     "status": "completed"
    },
    "tags": []
   },
   "outputs": [
    {
     "data": {
      "image/png": "[encoded data removed]",
      "text/plain": [
       "<Figure size 300x100 with 1 Axes>"
      ]
     },
     "metadata": {},
     "output_type": "display_data"
    }
   ],
   "source": [
    "plt.figure(figsize=(3, 1))\n",
    "plt.title(\"Original\")\n",
    "plt.imshow(np.clip(target_img, 0, 1))\n",
    "plt.show()"
   ]
  },
  {
   "cell_type": "markdown",
   "id": "db6e0d8f",
   "metadata": {
    "id": "TpN0JIRROF2A",
    "papermill": {
     "duration": 0.005754,
     "end_time": "2024-05-31T12:42:19.111776",
     "exception": false,
     "start_time": "2024-05-31T12:42:19.106022",
     "status": "completed"
    },
    "tags": []
   },
   "source": [
    "## Define noise levels and schedule"
   ]
  },
  {
   "cell_type": "code",
   "execution_count": 6,
   "id": "43ad99ce",
   "metadata": {
    "execution": {
     "iopub.execute_input": "2024-05-31T12:42:19.124666Z",
     "iopub.status.busy": "2024-05-31T12:42:19.124392Z",
     "iopub.status.idle": "2024-05-31T12:42:19.128601Z",
     "shell.execute_reply": "2024-05-31T12:42:19.127763Z"
    },
    "id": "4qZXS6RlOFNI",
    "papermill": {
     "duration": 0.01284,
     "end_time": "2024-05-31T12:42:19.130437",
     "exception": false,
     "start_time": "2024-05-31T12:42:19.117597",
     "status": "completed"
    },
    "tags": []
   },
   "outputs": [],
   "source": [
    "schedules = {\n",
    "    \"gradual\": [0.1, 0.05, 0.025],\n",
    "    \"fast\": [0.1, 0.01, 0.001],\n",
    "    \"slow\": [0.1, 0.09, 0.08]\n",
    "}"
   ]
  },
  {
   "cell_type": "markdown",
   "id": "01d4db0e",
   "metadata": {
    "id": "PxrTRBDSOKrp",
    "papermill": {
     "duration": 0.005763,
     "end_time": "2024-05-31T12:42:19.141967",
     "exception": false,
     "start_time": "2024-05-31T12:42:19.136204",
     "status": "completed"
    },
    "tags": []
   },
   "source": [
    "## Prepare for Training"
   ]
  },
  {
   "cell_type": "code",
   "execution_count": 7,
   "id": "3851ceba",
   "metadata": {
    "execution": {
     "iopub.execute_input": "2024-05-31T12:42:19.156329Z",
     "iopub.status.busy": "2024-05-31T12:42:19.155660Z",
     "iopub.status.idle": "2024-05-31T12:42:19.236339Z",
     "shell.execute_reply": "2024-05-31T12:42:19.235411Z"
    },
    "id": "2C2Rwc-rOMtR",
    "outputId": "1cd1e5b3-d2a3-4027-e38a-98427542db70",
    "papermill": {
     "duration": 0.089292,
     "end_time": "2024-05-31T12:42:19.238336",
     "exception": false,
     "start_time": "2024-05-31T12:42:19.149044",
     "status": "completed"
    },
    "tags": []
   },
   "outputs": [
    {
     "name": "stdout",
     "output_type": "stream",
     "text": [
      "Using device: cuda\n"
     ]
    }
   ],
   "source": [
    "device = torch.device(\"cuda\" if torch.cuda.is_available() else \"cpu\")\n",
    "print(f\"Using device: {device}\")"
   ]
  },
  {
   "cell_type": "code",
   "execution_count": 8,
   "id": "6e4e7e7d",
   "metadata": {
    "execution": {
     "iopub.execute_input": "2024-05-31T12:42:19.251646Z",
     "iopub.status.busy": "2024-05-31T12:42:19.251384Z",
     "iopub.status.idle": "2024-05-31T12:42:19.255841Z",
     "shell.execute_reply": "2024-05-31T12:42:19.254983Z"
    },
    "id": "WaJQQlZMOT6B",
    "papermill": {
     "duration": 0.013446,
     "end_time": "2024-05-31T12:42:19.257769",
     "exception": false,
     "start_time": "2024-05-31T12:42:19.244323",
     "status": "completed"
    },
    "tags": []
   },
   "outputs": [],
   "source": [
    "def initialize_model():\n",
    "    model = DIPModel().to(device)\n",
    "    optimizer = optim.Adam(model.parameters(), lr=0.005)\n",
    "    return model, optimizer"
   ]
  },
  {
   "cell_type": "code",
   "execution_count": 9,
   "id": "972e2714",
   "metadata": {
    "execution": {
     "iopub.execute_input": "2024-05-31T12:42:19.271132Z",
     "iopub.status.busy": "2024-05-31T12:42:19.270474Z",
     "iopub.status.idle": "2024-05-31T12:42:19.283491Z",
     "shell.execute_reply": "2024-05-31T12:42:19.282664Z"
    },
    "id": "Kdy968OYOcz6",
    "papermill": {
     "duration": 0.02166,
     "end_time": "2024-05-31T12:42:19.285308",
     "exception": false,
     "start_time": "2024-05-31T12:42:19.263648",
     "status": "completed"
    },
    "tags": []
   },
   "outputs": [],
   "source": [
    "def train_schedule(schedule_name, noise_levels):\n",
    "    psnr_results = []\n",
    "    ssim_results = []\n",
    "\n",
    "    noisy_images = [add_noise(target_img, noise_level) for noise_level in noise_levels]\n",
    "    noisy_images_torch = [torch.tensor(img.transpose(2, 0, 1)).unsqueeze(0).float() for img in noisy_images]\n",
    "    noisy_images_torch = [img.to(device) for img in noisy_images_torch]\n",
    "    target_img_torch = torch.tensor(target_img.transpose(2, 0, 1)).unsqueeze(0).float().to(device)\n",
    "\n",
    "    model, optimizer = initialize_model()\n",
    "    criterion = nn.MSELoss()\n",
    "\n",
    "    num_epochs_per_stage = 1000\n",
    "    patience = 50\n",
    "    best_psnr = 0\n",
    "    best_model = None\n",
    "    eval_interval = 100\n",
    "\n",
    "    for stage, noisy_img_torch in enumerate(noisy_images_torch):\n",
    "        print(f\"Training on schedule {schedule_name}, stage {stage + 1} with noise level {noise_levels[stage]}\")\n",
    "        no_improvement_count = 0\n",
    "\n",
    "        for epoch in tqdm(range(num_epochs_per_stage)):\n",
    "            model.train()\n",
    "            optimizer.zero_grad()\n",
    "            output = model(noisy_img_torch)\n",
    "            loss = criterion(output, target_img_torch)\n",
    "            loss.backward()\n",
    "            optimizer.step()\n",
    "\n",
    "            if epoch % eval_interval == 0 or epoch == num_epochs_per_stage - 1:\n",
    "                model.eval()\n",
    "                with torch.no_grad():\n",
    "                    output_img = output.squeeze().cpu().detach().numpy().transpose(1, 2, 0)\n",
    "                    output_img = np.clip(output_img, 0, 1)\n",
    "                    current_psnr = psnr(target_img, output_img, data_range=1.0)\n",
    "                    current_ssim = ssim(target_img, output_img, data_range=1.0, channel_axis=-1)\n",
    "\n",
    "                    if current_psnr > best_psnr:\n",
    "                        best_psnr = current_psnr\n",
    "                        best_model = model.state_dict()\n",
    "                        no_improvement_count = 0\n",
    "                    else:\n",
    "                        no_improvement_count += 1\n",
    "\n",
    "                    if no_improvement_count >= patience:\n",
    "                        print(f\"Early stopping at epoch {epoch} in schedule {schedule_name}, stage {stage + 1}\")\n",
    "                        break\n",
    "\n",
    "        model.load_state_dict(best_model)\n",
    "        psnr_results.append(best_psnr)\n",
    "        ssim_results.append(current_ssim)\n",
    "\n",
    "    return psnr_results, ssim_results"
   ]
  },
  {
   "cell_type": "markdown",
   "id": "4bc151c3",
   "metadata": {
    "id": "D96PkZj5OOvh",
    "papermill": {
     "duration": 0.00595,
     "end_time": "2024-05-31T12:42:19.297609",
     "exception": false,
     "start_time": "2024-05-31T12:42:19.291659",
     "status": "completed"
    },
    "tags": []
   },
   "source": [
    "## Training"
   ]
  },
  {
   "cell_type": "code",
   "execution_count": 10,
   "id": "d2132605",
   "metadata": {
    "execution": {
     "iopub.execute_input": "2024-05-31T12:42:19.310894Z",
     "iopub.status.busy": "2024-05-31T12:42:19.310629Z",
     "iopub.status.idle": "2024-05-31T12:46:36.113986Z",
     "shell.execute_reply": "2024-05-31T12:46:36.112947Z"
    },
    "id": "xhvROdsz2r5N",
    "outputId": "1e2b028b-c2c2-48dd-9dfc-ce9852c69d98",
    "papermill": {
     "duration": 256.81252,
     "end_time": "2024-05-31T12:46:36.116207",
     "exception": false,
     "start_time": "2024-05-31T12:42:19.303687",
     "status": "completed"
    },
    "tags": []
   },
   "outputs": [
    {
     "name": "stdout",
     "output_type": "stream",
     "text": [
      "Training on schedule gradual, stage 1 with noise level 0.1\n"
     ]
    },
    {
     "name": "stderr",
     "output_type": "stream",
     "text": [
      "100%|██████████| 1000/1000 [00:27<00:00, 36.24it/s]\n"
     ]
    },
    {
     "name": "stdout",
     "output_type": "stream",
     "text": [
      "Training on schedule gradual, stage 2 with noise level 0.05\n"
     ]
    },
    {
     "name": "stderr",
     "output_type": "stream",
     "text": [
      "100%|██████████| 1000/1000 [00:26<00:00, 37.17it/s]\n"
     ]
    },
    {
     "name": "stdout",
     "output_type": "stream",
     "text": [
      "Training on schedule gradual, stage 3 with noise level 0.025\n"
     ]
    },
    {
     "name": "stderr",
     "output_type": "stream",
     "text": [
      "100%|██████████| 1000/1000 [00:27<00:00, 36.09it/s]\n"
     ]
    },
    {
     "name": "stdout",
     "output_type": "stream",
     "text": [
      "Training on schedule fast, stage 1 with noise level 0.1\n"
     ]
    },
    {
     "name": "stderr",
     "output_type": "stream",
     "text": [
      "100%|██████████| 1000/1000 [00:28<00:00, 35.11it/s]\n"
     ]
    },
    {
     "name": "stdout",
     "output_type": "stream",
     "text": [
      "Training on schedule fast, stage 2 with noise level 0.01\n"
     ]
    },
    {
     "name": "stderr",
     "output_type": "stream",
     "text": [
      "100%|██████████| 1000/1000 [00:29<00:00, 34.18it/s]\n"
     ]
    },
    {
     "name": "stdout",
     "output_type": "stream",
     "text": [
      "Training on schedule fast, stage 3 with noise level 0.001\n"
     ]
    },
    {
     "name": "stderr",
     "output_type": "stream",
     "text": [
      "100%|██████████| 1000/1000 [00:28<00:00, 34.76it/s]\n"
     ]
    },
    {
     "name": "stdout",
     "output_type": "stream",
     "text": [
      "Training on schedule slow, stage 1 with noise level 0.1\n"
     ]
    },
    {
     "name": "stderr",
     "output_type": "stream",
     "text": [
      "100%|██████████| 1000/1000 [00:28<00:00, 34.96it/s]\n"
     ]
    },
    {
     "name": "stdout",
     "output_type": "stream",
     "text": [
      "Training on schedule slow, stage 2 with noise level 0.09\n"
     ]
    },
    {
     "name": "stderr",
     "output_type": "stream",
     "text": [
      "100%|██████████| 1000/1000 [00:28<00:00, 34.76it/s]\n"
     ]
    },
    {
     "name": "stdout",
     "output_type": "stream",
     "text": [
      "Training on schedule slow, stage 3 with noise level 0.08\n"
     ]
    },
    {
     "name": "stderr",
     "output_type": "stream",
     "text": [
      "100%|██████████| 1000/1000 [00:28<00:00, 34.80it/s]\n"
     ]
    }
   ],
   "source": [
    "results = {}\n",
    "for schedule_name, noise_levels in schedules.items():\n",
    "    psnr_results, ssim_results = train_schedule(schedule_name, noise_levels)\n",
    "    results[schedule_name] = {\n",
    "        \"psnr\": psnr_results,\n",
    "        \"ssim\": ssim_results\n",
    "    }"
   ]
  },
  {
   "cell_type": "markdown",
   "id": "1905dde0",
   "metadata": {
    "id": "2gZhGE78Ojmy",
    "papermill": {
     "duration": 0.110847,
     "end_time": "2024-05-31T12:46:36.353726",
     "exception": false,
     "start_time": "2024-05-31T12:46:36.242879",
     "status": "completed"
    },
    "tags": []
   },
   "source": [
    "## Visulize the result"
   ]
  },
  {
   "cell_type": "code",
   "execution_count": 11,
   "id": "00a85fda",
   "metadata": {
    "execution": {
     "iopub.execute_input": "2024-05-31T12:46:36.585182Z",
     "iopub.status.busy": "2024-05-31T12:46:36.584646Z",
     "iopub.status.idle": "2024-05-31T12:46:36.930276Z",
     "shell.execute_reply": "2024-05-31T12:46:36.929358Z"
    },
    "id": "VGB1GtC0Olw7",
    "outputId": "31eccf69-20b9-4f33-ee81-de87af39ff40",
    "papermill": {
     "duration": 0.464964,
     "end_time": "2024-05-31T12:46:36.932495",
     "exception": false,
     "start_time": "2024-05-31T12:46:36.467531",
     "status": "completed"
    },
    "tags": []
   },
   "outputs": [
    {
     "name": "stdout",
     "output_type": "stream",
     "text": [
      "Average PSNR for gradual: 33.7527\n",
      "Average PSNR for fast: 37.0958\n",
      "Average PSNR for slow: 31.1229\n"
     ]
    },
    {
     "data": {
      "image/png": "[encoded data removed]",
      "text/plain": [
       "<Figure size 600x400 with 1 Axes>"
      ]
     },
     "metadata": {},
     "output_type": "display_data"
    }
   ],
   "source": [
    "plt.figure(figsize=(6, 4))\n",
    "for schedule_name, metrics in results.items():\n",
    "    plt.plot(metrics[\"psnr\"], label=f'{schedule_name} PSNR')\n",
    "    avg_psnr = np.mean(metrics[\"psnr\"])\n",
    "    print(f'Average PSNR for {schedule_name}: {avg_psnr:.4f}')\n",
    "plt.xlabel('Stages')\n",
    "plt.ylabel('PSNR')\n",
    "plt.legend()\n",
    "plt.title('PSNR in different level for same epochs')\n",
    "plt.show()"
   ]
  },
  {
   "cell_type": "code",
   "execution_count": 12,
   "id": "cc6395df",
   "metadata": {
    "execution": {
     "iopub.execute_input": "2024-05-31T12:46:37.165299Z",
     "iopub.status.busy": "2024-05-31T12:46:37.164995Z",
     "iopub.status.idle": "2024-05-31T12:46:37.402462Z",
     "shell.execute_reply": "2024-05-31T12:46:37.401552Z"
    },
    "id": "95JgPszpfjTY",
    "outputId": "c8d1e574-271f-4a7b-d90f-f8de190a9fe7",
    "papermill": {
     "duration": 0.356045,
     "end_time": "2024-05-31T12:46:37.404424",
     "exception": false,
     "start_time": "2024-05-31T12:46:37.048379",
     "status": "completed"
    },
    "tags": []
   },
   "outputs": [
    {
     "name": "stdout",
     "output_type": "stream",
     "text": [
      "Average SSIM for gradual: 0.8588\n",
      "Average SSIM for fast: 0.9080\n",
      "Average SSIM for slow: 0.7951\n"
     ]
    },
    {
     "data": {
      "image/png": "[encoded data removed]",
      "text/plain": [
       "<Figure size 600x400 with 1 Axes>"
      ]
     },
     "metadata": {},
     "output_type": "display_data"
    }
   ],
   "source": [
    "plt.figure(figsize=(6, 4))\n",
    "for schedule_name, metrics in results.items():\n",
    "    plt.plot(metrics[\"ssim\"], label=f'{schedule_name} SSIM')\n",
    "    avg_ssim = np.mean(metrics[\"ssim\"])\n",
    "    print(f'Average SSIM for {schedule_name}: {avg_ssim:.4f}')\n",
    "plt.xlabel('Stages')\n",
    "plt.ylabel('SSIM')\n",
    "plt.legend()\n",
    "plt.title('SSIM in different level for same epochs')\n",
    "plt.show()"
   ]
  },
  {
   "cell_type": "code",
   "execution_count": 13,
   "id": "2271253f",
   "metadata": {
    "execution": {
     "iopub.execute_input": "2024-05-31T12:46:37.637121Z",
     "iopub.status.busy": "2024-05-31T12:46:37.636761Z",
     "iopub.status.idle": "2024-05-31T12:46:37.642816Z",
     "shell.execute_reply": "2024-05-31T12:46:37.641918Z"
    },
    "papermill": {
     "duration": 0.125582,
     "end_time": "2024-05-31T12:46:37.644953",
     "exception": false,
     "start_time": "2024-05-31T12:46:37.519371",
     "status": "completed"
    },
    "tags": []
   },
   "outputs": [
    {
     "name": "stdout",
     "output_type": "stream",
     "text": [
      "PSNR results for gradual: ['30.8915', '33.7275', '36.6391']\n",
      "SSIM results for gradual: ['0.7895', '0.8664', '0.9204']\n",
      "PSNR results for fast: ['30.7005', '38.3647', '42.2222']\n",
      "SSIM results for fast: ['0.7854', '0.9553', '0.9834']\n",
      "PSNR results for slow: ['30.2832', '31.1301', '31.9555']\n",
      "SSIM results for slow: ['0.7673', '0.7964', '0.8215']\n"
     ]
    }
   ],
   "source": [
    "for schedule_name, metrics in results.items():\n",
    "    psnr_formatted = [f'{val:.4f}' for val in metrics[\"psnr\"]]\n",
    "    ssim_formatted = [f'{val:.4f}' for val in metrics[\"ssim\"]]\n",
    "    print(f'PSNR results for {schedule_name}: {psnr_formatted}')\n",
    "    print(f'SSIM results for {schedule_name}: {ssim_formatted}')"
   ]
  }
 ],
 "metadata": {
  "accelerator": "GPU",
  "colab": {
   "gpuType": "T4",
   "provenance": []
  },
  "kaggle": {
   "accelerator": "nvidiaTeslaT4",
   "dataSources": [
    {
     "datasetId": 5114393,
     "sourceId": 8557443,
     "sourceType": "datasetVersion"
    }
   ],
   "dockerImageVersionId": 30716,
   "isGpuEnabled": true,
   "isInternetEnabled": true,
   "language": "python",
   "sourceType": "notebook"
  },
  "kernelspec": {
   "display_name": "Python 3",
   "language": "python",
   "name": "python3"
  },
  "language_info": {
   "codemirror_mode": {
    "name": "ipython",
    "version": 3
   },
   "file_extension": ".py",
   "mimetype": "text/x-python",
   "name": "python",
   "nbconvert_exporter": "python",
   "pygments_lexer": "ipython3",
   "version": "3.10.13"
  },
  "papermill": {
   "default_parameters": {},
   "duration": 269.217218,
   "end_time": "2024-05-31T12:46:39.185381",
   "environment_variables": {},
   "exception": null,
   "input_path": "__notebook__.ipynb",
   "output_path": "__notebook__.ipynb",
   "parameters": {},
   "start_time": "2024-05-31T12:42:09.968163",
   "version": "2.5.0"
  }
 },
 "nbformat": 4,
 "nbformat_minor": 5
}
