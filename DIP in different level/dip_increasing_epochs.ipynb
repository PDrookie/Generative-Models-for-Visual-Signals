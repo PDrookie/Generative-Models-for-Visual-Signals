{
 "cells": [
  {
   "cell_type": "markdown",
   "id": "23305b16",
   "metadata": {
    "id": "VPxR_evgNg6O",
    "papermill": {
     "duration": 0.006677,
     "end_time": "2024-05-31T13:17:50.302595",
     "exception": false,
     "start_time": "2024-05-31T13:17:50.295918",
     "status": "completed"
    },
    "tags": []
   },
   "source": [
    "## Env Creative"
   ]
  },
  {
   "cell_type": "code",
   "execution_count": 1,
   "id": "182c31c4",
   "metadata": {
    "execution": {
     "iopub.execute_input": "2024-05-31T13:17:50.316259Z",
     "iopub.status.busy": "2024-05-31T13:17:50.315908Z",
     "iopub.status.idle": "2024-05-31T13:17:55.563644Z",
     "shell.execute_reply": "2024-05-31T13:17:55.562873Z"
    },
    "id": "78BPVkAWNbrx",
    "papermill": {
     "duration": 5.257148,
     "end_time": "2024-05-31T13:17:55.565979",
     "exception": false,
     "start_time": "2024-05-31T13:17:50.308831",
     "status": "completed"
    },
    "tags": []
   },
   "outputs": [],
   "source": [
    "import numpy as np\n",
    "import torch\n",
    "import torch.nn as nn\n",
    "import torch.optim as optim\n",
    "from skimage.metrics import peak_signal_noise_ratio as psnr\n",
    "from skimage.metrics import structural_similarity as ssim\n",
    "from tqdm import tqdm\n",
    "import matplotlib.pyplot as plt\n",
    "import imageio.v2"
   ]
  },
  {
   "cell_type": "markdown",
   "id": "ef72d835",
   "metadata": {
    "id": "CyPCpr--NjqQ",
    "papermill": {
     "duration": 0.005816,
     "end_time": "2024-05-31T13:17:55.578312",
     "exception": false,
     "start_time": "2024-05-31T13:17:55.572496",
     "status": "completed"
    },
    "tags": []
   },
   "source": [
    "## Function to add Gaussian noise to the image"
   ]
  },
  {
   "cell_type": "code",
   "execution_count": 2,
   "id": "b26440ce",
   "metadata": {
    "execution": {
     "iopub.execute_input": "2024-05-31T13:17:55.592630Z",
     "iopub.status.busy": "2024-05-31T13:17:55.591826Z",
     "iopub.status.idle": "2024-05-31T13:17:55.596705Z",
     "shell.execute_reply": "2024-05-31T13:17:55.595863Z"
    },
    "id": "fjQ3PlXbNorx",
    "papermill": {
     "duration": 0.014027,
     "end_time": "2024-05-31T13:17:55.598697",
     "exception": false,
     "start_time": "2024-05-31T13:17:55.584670",
     "status": "completed"
    },
    "tags": []
   },
   "outputs": [],
   "source": [
    "def add_noise(img, noise_level):\n",
    "    noise = np.random.normal(0, noise_level, img.shape)\n",
    "    noisy_img = img + noise\n",
    "    return np.clip(noisy_img, 0, 1)"
   ]
  },
  {
   "cell_type": "markdown",
   "id": "5cfdc817",
   "metadata": {
    "id": "tDlzk0CuNpiI",
    "papermill": {
     "duration": 0.005665,
     "end_time": "2024-05-31T13:17:55.610280",
     "exception": false,
     "start_time": "2024-05-31T13:17:55.604615",
     "status": "completed"
    },
    "tags": []
   },
   "source": [
    "## Define the DIP model"
   ]
  },
  {
   "cell_type": "code",
   "execution_count": 3,
   "id": "6cd2a45b",
   "metadata": {
    "execution": {
     "iopub.execute_input": "2024-05-31T13:17:55.622859Z",
     "iopub.status.busy": "2024-05-31T13:17:55.622606Z",
     "iopub.status.idle": "2024-05-31T13:17:55.628759Z",
     "shell.execute_reply": "2024-05-31T13:17:55.627951Z"
    },
    "id": "QtS8wxjeNuuI",
    "papermill": {
     "duration": 0.014479,
     "end_time": "2024-05-31T13:17:55.630583",
     "exception": false,
     "start_time": "2024-05-31T13:17:55.616104",
     "status": "completed"
    },
    "tags": []
   },
   "outputs": [],
   "source": [
    "class DIPModel(nn.Module):\n",
    "    def __init__(self):\n",
    "        super(DIPModel, self).__init__()\n",
    "        self.conv1 = nn.Conv2d(3, 64, kernel_size=3, padding=1)\n",
    "        self.conv2 = nn.Conv2d(64, 64, kernel_size=3, padding=1)\n",
    "        self.conv3 = nn.Conv2d(64, 3, kernel_size=3, padding=1)\n",
    "        self.relu = nn.ReLU()\n",
    "\n",
    "    def forward(self, x):\n",
    "        x = self.relu(self.conv1(x))\n",
    "        x = self.relu(self.conv2(x))\n",
    "        x = self.conv3(x)\n",
    "        return x"
   ]
  },
  {
   "cell_type": "markdown",
   "id": "b2767a24",
   "metadata": {
    "id": "uyRwqMX4N3JR",
    "papermill": {
     "duration": 0.005667,
     "end_time": "2024-05-31T13:17:55.642042",
     "exception": false,
     "start_time": "2024-05-31T13:17:55.636375",
     "status": "completed"
    },
    "tags": []
   },
   "source": [
    "## Load target image"
   ]
  },
  {
   "cell_type": "code",
   "execution_count": 4,
   "id": "cb9ca546",
   "metadata": {
    "execution": {
     "iopub.execute_input": "2024-05-31T13:17:55.654772Z",
     "iopub.status.busy": "2024-05-31T13:17:55.654518Z",
     "iopub.status.idle": "2024-05-31T13:17:55.694788Z",
     "shell.execute_reply": "2024-05-31T13:17:55.693939Z"
    },
    "id": "xCIp2TnzN1n6",
    "outputId": "de4f48a0-526b-4f34-feab-935ff204c376",
    "papermill": {
     "duration": 0.048956,
     "end_time": "2024-05-31T13:17:55.696841",
     "exception": false,
     "start_time": "2024-05-31T13:17:55.647885",
     "status": "completed"
    },
    "tags": []
   },
   "outputs": [
    {
     "name": "stderr",
     "output_type": "stream",
     "text": [
      "/tmp/ipykernel_24/1330099834.py:2: DeprecationWarning: Starting with ImageIO v3 the behavior of this function will switch to that of iio.v3.imread. To keep the current behavior (and make this warning disappear) use `import imageio.v2 as imageio` or call `imageio.v2.imread` directly.\n",
      "  target_img = imageio.imread(img_path)\n"
     ]
    }
   ],
   "source": [
    "img_path = '/kaggle/input/lenna-test-image/Lenna_(test_image).png'\n",
    "target_img = imageio.imread(img_path)\n",
    "\n",
    "if target_img.dtype == np.uint8:\n",
    "    target_img = target_img / 255.0"
   ]
  },
  {
   "cell_type": "code",
   "execution_count": 5,
   "id": "7997a0b6",
   "metadata": {
    "execution": {
     "iopub.execute_input": "2024-05-31T13:17:55.710279Z",
     "iopub.status.busy": "2024-05-31T13:17:55.709767Z",
     "iopub.status.idle": "2024-05-31T13:17:55.922853Z",
     "shell.execute_reply": "2024-05-31T13:17:55.921956Z"
    },
    "id": "tVkeiLeopFiM",
    "outputId": "ce4371fd-8151-413f-830f-f6ee90431231",
    "papermill": {
     "duration": 0.222021,
     "end_time": "2024-05-31T13:17:55.925029",
     "exception": false,
     "start_time": "2024-05-31T13:17:55.703008",
     "status": "completed"
    },
    "tags": []
   },
   "outputs": [
    {
     "data": {
      "image/png": "[encoded data removed]",
      "text/plain": [
       "<Figure size 300x100 with 1 Axes>"
      ]
     },
     "metadata": {},
     "output_type": "display_data"
    }
   ],
   "source": [
    "# check the picture load correctly\n",
    "plt.figure(figsize=(3, 1))\n",
    "plt.title(\"Original\")\n",
    "plt.imshow(np.clip(target_img, 0, 1))\n",
    "plt.show()"
   ]
  },
  {
   "cell_type": "markdown",
   "id": "9f970502",
   "metadata": {
    "id": "TpN0JIRROF2A",
    "papermill": {
     "duration": 0.007771,
     "end_time": "2024-05-31T13:17:55.939858",
     "exception": false,
     "start_time": "2024-05-31T13:17:55.932087",
     "status": "completed"
    },
    "tags": []
   },
   "source": [
    "## Define noise levels and schedule"
   ]
  },
  {
   "cell_type": "code",
   "execution_count": 6,
   "id": "7c20665e",
   "metadata": {
    "execution": {
     "iopub.execute_input": "2024-05-31T13:17:55.954799Z",
     "iopub.status.busy": "2024-05-31T13:17:55.954452Z",
     "iopub.status.idle": "2024-05-31T13:17:55.959522Z",
     "shell.execute_reply": "2024-05-31T13:17:55.958540Z"
    },
    "id": "4qZXS6RlOFNI",
    "papermill": {
     "duration": 0.014964,
     "end_time": "2024-05-31T13:17:55.961462",
     "exception": false,
     "start_time": "2024-05-31T13:17:55.946498",
     "status": "completed"
    },
    "tags": []
   },
   "outputs": [],
   "source": [
    "schedules = {\n",
    "    \"gradual\": [0.1, 0.05, 0.025],\n",
    "    \"fast\": [0.1, 0.01, 0.001],\n",
    "    \"slow\": [0.1, 0.075, 0.05]\n",
    "}"
   ]
  },
  {
   "cell_type": "markdown",
   "id": "f4a7b4b3",
   "metadata": {
    "id": "YGKy4pSTcSML",
    "papermill": {
     "duration": 0.006982,
     "end_time": "2024-05-31T13:17:55.976369",
     "exception": false,
     "start_time": "2024-05-31T13:17:55.969387",
     "status": "completed"
    },
    "tags": []
   },
   "source": [
    "## Define epochs per stage for each schedule"
   ]
  },
  {
   "cell_type": "code",
   "execution_count": 7,
   "id": "efd966e2",
   "metadata": {
    "execution": {
     "iopub.execute_input": "2024-05-31T13:17:55.991320Z",
     "iopub.status.busy": "2024-05-31T13:17:55.991012Z",
     "iopub.status.idle": "2024-05-31T13:17:55.994979Z",
     "shell.execute_reply": "2024-05-31T13:17:55.994106Z"
    },
    "id": "HbAwcIFCcMbT",
    "papermill": {
     "duration": 0.013729,
     "end_time": "2024-05-31T13:17:55.996953",
     "exception": false,
     "start_time": "2024-05-31T13:17:55.983224",
     "status": "completed"
    },
    "tags": []
   },
   "outputs": [],
   "source": [
    "epochs_per_stage = [500, 1000, 1500]"
   ]
  },
  {
   "cell_type": "markdown",
   "id": "4cad98af",
   "metadata": {
    "id": "PxrTRBDSOKrp",
    "papermill": {
     "duration": 0.006387,
     "end_time": "2024-05-31T13:17:56.009702",
     "exception": false,
     "start_time": "2024-05-31T13:17:56.003315",
     "status": "completed"
    },
    "tags": []
   },
   "source": [
    "## Prepare for Training"
   ]
  },
  {
   "cell_type": "code",
   "execution_count": 8,
   "id": "061c261d",
   "metadata": {
    "execution": {
     "iopub.execute_input": "2024-05-31T13:17:56.023770Z",
     "iopub.status.busy": "2024-05-31T13:17:56.023476Z",
     "iopub.status.idle": "2024-05-31T13:17:56.105403Z",
     "shell.execute_reply": "2024-05-31T13:17:56.104477Z"
    },
    "id": "2C2Rwc-rOMtR",
    "outputId": "d0cfe62c-025f-4aab-8604-717aecd259fd",
    "papermill": {
     "duration": 0.091573,
     "end_time": "2024-05-31T13:17:56.107725",
     "exception": false,
     "start_time": "2024-05-31T13:17:56.016152",
     "status": "completed"
    },
    "tags": []
   },
   "outputs": [
    {
     "name": "stdout",
     "output_type": "stream",
     "text": [
      "Using device: cuda\n"
     ]
    }
   ],
   "source": [
    "device = torch.device(\"cuda\" if torch.cuda.is_available() else \"cpu\")\n",
    "print(f\"Using device: {device}\")"
   ]
  },
  {
   "cell_type": "code",
   "execution_count": 9,
   "id": "6dfac701",
   "metadata": {
    "execution": {
     "iopub.execute_input": "2024-05-31T13:17:56.123000Z",
     "iopub.status.busy": "2024-05-31T13:17:56.122615Z",
     "iopub.status.idle": "2024-05-31T13:17:56.127527Z",
     "shell.execute_reply": "2024-05-31T13:17:56.126656Z"
    },
    "id": "WaJQQlZMOT6B",
    "papermill": {
     "duration": 0.015061,
     "end_time": "2024-05-31T13:17:56.129422",
     "exception": false,
     "start_time": "2024-05-31T13:17:56.114361",
     "status": "completed"
    },
    "tags": []
   },
   "outputs": [],
   "source": [
    "def initialize_model():\n",
    "    model = DIPModel().to(device)\n",
    "    optimizer = optim.Adam(model.parameters(), lr=0.005)\n",
    "    return model, optimizer"
   ]
  },
  {
   "cell_type": "code",
   "execution_count": 10,
   "id": "d9018ad9",
   "metadata": {
    "execution": {
     "iopub.execute_input": "2024-05-31T13:17:56.144138Z",
     "iopub.status.busy": "2024-05-31T13:17:56.143833Z",
     "iopub.status.idle": "2024-05-31T13:17:56.156481Z",
     "shell.execute_reply": "2024-05-31T13:17:56.155641Z"
    },
    "id": "Kdy968OYOcz6",
    "papermill": {
     "duration": 0.022091,
     "end_time": "2024-05-31T13:17:56.158276",
     "exception": false,
     "start_time": "2024-05-31T13:17:56.136185",
     "status": "completed"
    },
    "tags": []
   },
   "outputs": [],
   "source": [
    "def train_schedule(schedule_name, noise_levels, epochs_per_stage):\n",
    "    psnr_results = []\n",
    "    ssim_results = []\n",
    "\n",
    "    noisy_images = [add_noise(target_img, noise_level) for noise_level in noise_levels]\n",
    "    noisy_images_torch = [torch.tensor(img.transpose(2, 0, 1)).unsqueeze(0).float().to(device) for img in noisy_images]\n",
    "    target_img_torch = torch.tensor(target_img.transpose(2, 0, 1)).unsqueeze(0).float().to(device)\n",
    "\n",
    "    model, optimizer = initialize_model()\n",
    "    criterion = nn.MSELoss()\n",
    "\n",
    "    patience = 50\n",
    "    best_psnr = 0\n",
    "    best_model = None\n",
    "    eval_interval = 100  # Set evaluation interval to 100 epochs\n",
    "\n",
    "    for stage, (noisy_img_torch, num_epochs) in enumerate(zip(noisy_images_torch, epochs_per_stage)):\n",
    "        print(f\"Training on schedule {schedule_name}, stage {stage + 1} with noise level {noise_levels[stage]}\")\n",
    "        no_improvement_count = 0\n",
    "\n",
    "        for epoch in tqdm(range(num_epochs)):\n",
    "            model.train()\n",
    "            optimizer.zero_grad()\n",
    "            output = model(noisy_img_torch)\n",
    "            loss = criterion(output, target_img_torch)\n",
    "            loss.backward()\n",
    "            optimizer.step()\n",
    "\n",
    "            if epoch % eval_interval == 0 or epoch == num_epochs - 1:\n",
    "                model.eval()\n",
    "                with torch.no_grad():\n",
    "                    output_img = output.squeeze().cpu().detach().numpy().transpose(1, 2, 0)\n",
    "                    output_img = np.clip(output_img, 0, 1)\n",
    "                    current_psnr = psnr(target_img, output_img, data_range=1.0)\n",
    "                    current_ssim = ssim(target_img, output_img, data_range=1.0, channel_axis=-1)\n",
    "\n",
    "                    if current_psnr > best_psnr:\n",
    "                        best_psnr = current_psnr\n",
    "                        best_model = model.state_dict()\n",
    "                        no_improvement_count = 0\n",
    "                    else:\n",
    "                        no_improvement_count += 1\n",
    "\n",
    "                    if no_improvement_count >= patience:\n",
    "                        print(f\"Early stopping at epoch {epoch} in schedule {schedule_name}, stage {stage + 1}\")\n",
    "                        break\n",
    "\n",
    "        model.load_state_dict(best_model)\n",
    "        psnr_results.append(best_psnr)\n",
    "        ssim_results.append(current_ssim)\n",
    "\n",
    "    return psnr_results, ssim_results"
   ]
  },
  {
   "cell_type": "markdown",
   "id": "12f9fb23",
   "metadata": {
    "id": "D96PkZj5OOvh",
    "papermill": {
     "duration": 0.006307,
     "end_time": "2024-05-31T13:17:56.171027",
     "exception": false,
     "start_time": "2024-05-31T13:17:56.164720",
     "status": "completed"
    },
    "tags": []
   },
   "source": [
    "## Training"
   ]
  },
  {
   "cell_type": "code",
   "execution_count": 11,
   "id": "b394d0b9",
   "metadata": {
    "execution": {
     "iopub.execute_input": "2024-05-31T13:17:56.185059Z",
     "iopub.status.busy": "2024-05-31T13:17:56.184711Z",
     "iopub.status.idle": "2024-05-31T13:22:12.211058Z",
     "shell.execute_reply": "2024-05-31T13:22:12.210079Z"
    },
    "id": "-63Fj44fOegq",
    "outputId": "64c3a865-f621-47f7-8e40-ce0bbafcdb0b",
    "papermill": {
     "duration": 256.03579,
     "end_time": "2024-05-31T13:22:12.213171",
     "exception": false,
     "start_time": "2024-05-31T13:17:56.177381",
     "status": "completed"
    },
    "tags": []
   },
   "outputs": [
    {
     "name": "stdout",
     "output_type": "stream",
     "text": [
      "Training on schedule gradual, stage 1 with noise level 0.1\n"
     ]
    },
    {
     "name": "stderr",
     "output_type": "stream",
     "text": [
      "100%|██████████| 500/500 [00:14<00:00, 33.93it/s]\n"
     ]
    },
    {
     "name": "stdout",
     "output_type": "stream",
     "text": [
      "Training on schedule gradual, stage 2 with noise level 0.05\n"
     ]
    },
    {
     "name": "stderr",
     "output_type": "stream",
     "text": [
      "100%|██████████| 1000/1000 [00:27<00:00, 36.43it/s]\n"
     ]
    },
    {
     "name": "stdout",
     "output_type": "stream",
     "text": [
      "Training on schedule gradual, stage 3 with noise level 0.025\n"
     ]
    },
    {
     "name": "stderr",
     "output_type": "stream",
     "text": [
      "100%|██████████| 1500/1500 [00:42<00:00, 35.17it/s]\n"
     ]
    },
    {
     "name": "stdout",
     "output_type": "stream",
     "text": [
      "Training on schedule fast, stage 1 with noise level 0.1\n"
     ]
    },
    {
     "name": "stderr",
     "output_type": "stream",
     "text": [
      "100%|██████████| 500/500 [00:14<00:00, 35.35it/s]\n"
     ]
    },
    {
     "name": "stdout",
     "output_type": "stream",
     "text": [
      "Training on schedule fast, stage 2 with noise level 0.01\n"
     ]
    },
    {
     "name": "stderr",
     "output_type": "stream",
     "text": [
      "100%|██████████| 1000/1000 [00:27<00:00, 35.78it/s]\n"
     ]
    },
    {
     "name": "stdout",
     "output_type": "stream",
     "text": [
      "Training on schedule fast, stage 3 with noise level 0.001\n"
     ]
    },
    {
     "name": "stderr",
     "output_type": "stream",
     "text": [
      "100%|██████████| 1500/1500 [00:42<00:00, 35.56it/s]\n"
     ]
    },
    {
     "name": "stdout",
     "output_type": "stream",
     "text": [
      "Training on schedule slow, stage 1 with noise level 0.1\n"
     ]
    },
    {
     "name": "stderr",
     "output_type": "stream",
     "text": [
      "100%|██████████| 500/500 [00:14<00:00, 35.12it/s]\n"
     ]
    },
    {
     "name": "stdout",
     "output_type": "stream",
     "text": [
      "Training on schedule slow, stage 2 with noise level 0.075\n"
     ]
    },
    {
     "name": "stderr",
     "output_type": "stream",
     "text": [
      "100%|██████████| 1000/1000 [00:28<00:00, 35.27it/s]\n"
     ]
    },
    {
     "name": "stdout",
     "output_type": "stream",
     "text": [
      "Training on schedule slow, stage 3 with noise level 0.05\n"
     ]
    },
    {
     "name": "stderr",
     "output_type": "stream",
     "text": [
      "100%|██████████| 1500/1500 [00:42<00:00, 35.34it/s]\n"
     ]
    }
   ],
   "source": [
    "results = {}\n",
    "for schedule_name, noise_levels in schedules.items():\n",
    "    psnr_results, ssim_results = train_schedule(schedule_name, noise_levels, epochs_per_stage)\n",
    "    results[schedule_name] = {\n",
    "        \"psnr\": psnr_results,\n",
    "        \"ssim\": ssim_results\n",
    "    }"
   ]
  },
  {
   "cell_type": "markdown",
   "id": "6140a448",
   "metadata": {
    "id": "2gZhGE78Ojmy",
    "papermill": {
     "duration": 0.117627,
     "end_time": "2024-05-31T13:22:12.446839",
     "exception": false,
     "start_time": "2024-05-31T13:22:12.329212",
     "status": "completed"
    },
    "tags": []
   },
   "source": [
    "## Visulize the result"
   ]
  },
  {
   "cell_type": "code",
   "execution_count": 12,
   "id": "3d18c8ba",
   "metadata": {
    "execution": {
     "iopub.execute_input": "2024-05-31T13:22:12.680772Z",
     "iopub.status.busy": "2024-05-31T13:22:12.679816Z",
     "iopub.status.idle": "2024-05-31T13:22:12.685778Z",
     "shell.execute_reply": "2024-05-31T13:22:12.684952Z"
    },
    "id": "I8CSGPp8DNbM",
    "papermill": {
     "duration": 0.125736,
     "end_time": "2024-05-31T13:22:12.688166",
     "exception": false,
     "start_time": "2024-05-31T13:22:12.562430",
     "status": "completed"
    },
    "tags": []
   },
   "outputs": [
    {
     "name": "stdout",
     "output_type": "stream",
     "text": [
      "PSNR results for gradual: ['30.4998', '33.6007', '36.4057']\n",
      "SSIM results for gradual: ['0.7792', '0.8621', '0.9187']\n",
      "PSNR results for fast: ['30.1121', '37.8815', '42.0065']\n",
      "SSIM results for fast: ['0.7676', '0.9530', '0.9851']\n",
      "PSNR results for slow: ['30.1359', '32.0934', '33.8823']\n",
      "SSIM results for slow: ['0.7689', '0.8262', '0.8686']\n"
     ]
    }
   ],
   "source": [
    "for schedule_name, metrics in results.items():\n",
    "    psnr_formatted = [f'{val:.4f}' for val in metrics[\"psnr\"]]\n",
    "    ssim_formatted = [f'{val:.4f}' for val in metrics[\"ssim\"]]\n",
    "    print(f'PSNR results for {schedule_name}: {psnr_formatted}')\n",
    "    print(f'SSIM results for {schedule_name}: {ssim_formatted}')"
   ]
  },
  {
   "cell_type": "code",
   "execution_count": 13,
   "id": "ad17b00d",
   "metadata": {
    "execution": {
     "iopub.execute_input": "2024-05-31T13:22:12.923603Z",
     "iopub.status.busy": "2024-05-31T13:22:12.923272Z",
     "iopub.status.idle": "2024-05-31T13:22:13.181755Z",
     "shell.execute_reply": "2024-05-31T13:22:13.180994Z"
    },
    "id": "VGB1GtC0Olw7",
    "papermill": {
     "duration": 0.377258,
     "end_time": "2024-05-31T13:22:13.183695",
     "exception": false,
     "start_time": "2024-05-31T13:22:12.806437",
     "status": "completed"
    },
    "tags": []
   },
   "outputs": [
    {
     "name": "stdout",
     "output_type": "stream",
     "text": [
      "Average PSNR for gradual: 33.5021\n",
      "Average PSNR for fast: 36.6667\n",
      "Average PSNR for slow: 32.0372\n"
     ]
    },
    {
     "data": {
      "image/png": "[encoded data removed]",
      "text/plain": [
       "<Figure size 600x400 with 1 Axes>"
      ]
     },
     "metadata": {},
     "output_type": "display_data"
    }
   ],
   "source": [
    "plt.figure(figsize=(6, 4))\n",
    "for schedule_name, metrics in results.items():\n",
    "    plt.plot(metrics[\"psnr\"], label=f'{schedule_name} PSNR')\n",
    "    avg_psnr = np.mean(metrics[\"psnr\"])\n",
    "    print(f'Average PSNR for {schedule_name}: {avg_psnr:.4f}')\n",
    "plt.xlabel('Stages')\n",
    "plt.ylabel('PSNR')\n",
    "plt.legend()\n",
    "plt.title('PSNR in different levels for increasing epochs')\n",
    "plt.show()"
   ]
  },
  {
   "cell_type": "code",
   "execution_count": 14,
   "id": "654a9151",
   "metadata": {
    "execution": {
     "iopub.execute_input": "2024-05-31T13:22:13.420968Z",
     "iopub.status.busy": "2024-05-31T13:22:13.420310Z",
     "iopub.status.idle": "2024-05-31T13:22:13.718741Z",
     "shell.execute_reply": "2024-05-31T13:22:13.718006Z"
    },
    "id": "95JgPszpfjTY",
    "papermill": {
     "duration": 0.419637,
     "end_time": "2024-05-31T13:22:13.720632",
     "exception": false,
     "start_time": "2024-05-31T13:22:13.300995",
     "status": "completed"
    },
    "tags": []
   },
   "outputs": [
    {
     "name": "stdout",
     "output_type": "stream",
     "text": [
      "Average SSIM for gradual: 0.8533\n",
      "Average SSIM for fast: 0.9019\n",
      "Average SSIM for slow: 0.8212\n"
     ]
    },
    {
     "data": {
      "image/png": "[encoded data removed]",
      "text/plain": [
       "<Figure size 600x400 with 1 Axes>"
      ]
     },
     "metadata": {},
     "output_type": "display_data"
    }
   ],
   "source": [
    "plt.figure(figsize=(6, 4))\n",
    "for schedule_name, metrics in results.items():\n",
    "    plt.plot(metrics[\"ssim\"], label=f'{schedule_name} SSIM')\n",
    "    avg_ssim = np.mean(metrics[\"ssim\"])\n",
    "    print(f'Average SSIM for {schedule_name}: {avg_ssim:.4f}')\n",
    "plt.xlabel('Stages')\n",
    "plt.ylabel('SSIM')\n",
    "plt.legend()\n",
    "plt.title('SSIM in different levels for increasing schedules')\n",
    "plt.show()"
   ]
  }
 ],
 "metadata": {
  "accelerator": "GPU",
  "colab": {
   "gpuType": "T4",
   "provenance": []
  },
  "kaggle": {
   "accelerator": "nvidiaTeslaT4",
   "dataSources": [
    {
     "datasetId": 5123526,
     "sourceId": 8569141,
     "sourceType": "datasetVersion"
    }
   ],
   "dockerImageVersionId": 30716,
   "isGpuEnabled": true,
   "isInternetEnabled": true,
   "language": "python",
   "sourceType": "notebook"
  },
  "kernelspec": {
   "display_name": "Python 3",
   "language": "python",
   "name": "python3"
  },
  "language_info": {
   "codemirror_mode": {
    "name": "ipython",
    "version": 3
   },
   "file_extension": ".py",
   "mimetype": "text/x-python",
   "name": "python",
   "nbconvert_exporter": "python",
   "pygments_lexer": "ipython3",
   "version": "3.10.13"
  },
  "papermill": {
   "default_parameters": {},
   "duration": 267.896969,
   "end_time": "2024-05-31T13:22:15.261501",
   "environment_variables": {},
   "exception": null,
   "input_path": "__notebook__.ipynb",
   "output_path": "__notebook__.ipynb",
   "parameters": {},
   "start_time": "2024-05-31T13:17:47.364532",
   "version": "2.5.0"
  }
 },
 "nbformat": 4,
 "nbformat_minor": 5
}
